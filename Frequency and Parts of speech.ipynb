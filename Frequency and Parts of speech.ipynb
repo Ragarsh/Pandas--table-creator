{
 "cells": [
  {
   "cell_type": "code",
   "execution_count": 166,
   "metadata": {
    "collapsed": false
   },
   "outputs": [],
   "source": [
    "import pandas as pd\n",
    "import collections\n",
    "from collections import Counter\n",
    "import nltk"
   ]
  },
  {
   "cell_type": "code",
   "execution_count": 168,
   "metadata": {
    "collapsed": false
   },
   "outputs": [
    {
     "data": {
      "text/html": [
       "<div>\n",
       "<table border=\"1\" class=\"dataframe\">\n",
       "  <thead>\n",
       "    <tr style=\"text-align: right;\">\n",
       "      <th></th>\n",
       "      <th>0</th>\n",
       "      <th>1</th>\n",
       "    </tr>\n",
       "  </thead>\n",
       "  <tbody>\n",
       "    <tr>\n",
       "      <th>0</th>\n",
       "      <td>care</td>\n",
       "      <td>5</td>\n",
       "    </tr>\n",
       "    <tr>\n",
       "      <th>1</th>\n",
       "      <td>future</td>\n",
       "      <td>4</td>\n",
       "    </tr>\n",
       "    <tr>\n",
       "      <th>2</th>\n",
       "      <td>medical</td>\n",
       "      <td>3</td>\n",
       "    </tr>\n",
       "    <tr>\n",
       "      <th>3</th>\n",
       "      <td>retirement.</td>\n",
       "      <td>3</td>\n",
       "    </tr>\n",
       "    <tr>\n",
       "      <th>4</th>\n",
       "      <td>important</td>\n",
       "      <td>3</td>\n",
       "    </tr>\n",
       "  </tbody>\n",
       "</table>\n",
       "</div>"
      ],
      "text/plain": [
       "             0  1\n",
       "0         care  5\n",
       "1       future  4\n",
       "2      medical  3\n",
       "3  retirement.  3\n",
       "4    important  3"
      ]
     },
     "execution_count": 168,
     "metadata": {},
     "output_type": "execute_result"
    }
   ],
   "source": [
    "table = pd.read_excel('RJ.xlsx')\n",
    "df = pd.DataFrame(table)\n",
    "df1 = table['Text'].str.lower().str.split() #seperates the words in a string\n",
    "c = list(df1)\n",
    "\n",
    "def word_count():\n",
    "    for x in range(1):\n",
    "        c1 = Counter(c[x]).most_common(30)\n",
    "        list1 = list(c1)\n",
    "        return [x[0] for x in list1]\n",
    "          \n",
    "             \n",
    "def pos_tag():\n",
    "    for x in range(1):\n",
    "        c1 = Counter(c[x])\n",
    "        tagged = nltk.pos_tag(c1)\n",
    "        noun = [word for word, pos in tagged if pos == 'JJ']\n",
    "        return noun\n",
    "\n",
    "for x in range(1):\n",
    "    c1 = Counter(c[x]).most_common(30) \n",
    "words = set(word_count())&set(pos_tag())\n",
    "\n",
    "b = [item for item in c1 if item[0] in words]\n",
    "DF = pd.DataFrame(b)\n",
    "DF"
   ]
  },
  {
   "cell_type": "code",
   "execution_count": null,
   "metadata": {
    "collapsed": true
   },
   "outputs": [],
   "source": []
  }
 ],
 "metadata": {
  "anaconda-cloud": {},
  "kernelspec": {
   "display_name": "Python [default]",
   "language": "python",
   "name": "python3"
  },
  "language_info": {
   "codemirror_mode": {
    "name": "ipython",
    "version": 3
   },
   "file_extension": ".py",
   "mimetype": "text/x-python",
   "name": "python",
   "nbconvert_exporter": "python",
   "pygments_lexer": "ipython3",
   "version": "3.5.2"
  }
 },
 "nbformat": 4,
 "nbformat_minor": 0
}
